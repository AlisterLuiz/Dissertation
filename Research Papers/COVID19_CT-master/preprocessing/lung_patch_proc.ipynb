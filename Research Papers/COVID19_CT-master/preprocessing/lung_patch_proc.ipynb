{
 "cells": [
  {
   "cell_type": "code",
   "execution_count": 1,
   "metadata": {},
   "outputs": [],
   "source": [
    "from skimage.io import imread, imsave\n",
    "import os\n",
    "\n",
    "import matplotlib.pyplot as plt\n",
    "%matplotlib inline\n",
    "\n",
    "import numpy as np\n",
    "import pandas as pd\n",
    "import random\n",
    "\n",
    "\n",
    "import pandas as pd\n",
    "\n",
    "def maybe_create(path):\n",
    "    if not os.path.exists(path):\n",
    "        os.mkdir(path)\n",
    "    return\n"
   ]
  },
  {
   "cell_type": "code",
   "execution_count": 2,
   "metadata": {},
   "outputs": [],
   "source": [
    "import glob\n",
    "\n",
    "fns =  glob.glob(\"lung_seg_crop_with_mask/\" + \"/*/*/*.png\")"
   ]
  },
  {
   "cell_type": "code",
   "execution_count": 3,
   "metadata": {},
   "outputs": [
    {
     "data": {
      "text/plain": [
       "9850"
      ]
     },
     "execution_count": 3,
     "metadata": {},
     "output_type": "execute_result"
    }
   ],
   "source": [
    "len(fns)"
   ]
  },
  {
   "cell_type": "code",
   "execution_count": 4,
   "metadata": {
    "scrolled": true
   },
   "outputs": [],
   "source": [
    "folder_save = 'lung_patch'\n",
    "maybe_create(folder_save)\n",
    "\n",
    "for fn_full in fns:\n",
    "    _, c, pid, fn = fn_full.split('/')\n",
    "    maybe_create(os.path.join(folder_save, c))\n",
    "    img_out = imread(fn_full)\n",
    "            \n",
    "    coor = [v for v in zip(*np.where(img_out[:, :, 2] > 0.5))]\n",
    "    sampled_coor = random.sample(coor, int(len(coor) * 0.001))\n",
    "    \n",
    "    vec = []\n",
    "    for ip, cor in enumerate(sampled_coor):        \n",
    "        i0, j0 = cor[0] - 32, cor[1] - 32\n",
    "        i1, j1 = cor[0] + 32, cor[1] + 32\n",
    "    \n",
    "        if (i0 < 0) or (j0 < 0):\n",
    "            continue\n",
    "        if (i1 >= img_out.shape[0]) or (j1 >= img_out.shape[1]):\n",
    "            continue\n",
    "        v = img_out[i0:i1, j0:j1, 0]\n",
    "        \n",
    "        fn_save =  os.path.join(folder_save, c, pid)\n",
    "        maybe_create(fn_save)\n",
    "\n",
    "        fn_save = os.path.join(fn_save, fn.split('.')[0] + '_%04d.png' % ip)\n",
    "             \n",
    "        imsave(fn_save, v)\n"
   ]
  },
  {
   "cell_type": "code",
   "execution_count": null,
   "metadata": {},
   "outputs": [],
   "source": []
  }
 ],
 "metadata": {
  "kernelspec": {
   "display_name": "Python 3",
   "language": "python",
   "name": "python3"
  },
  "language_info": {
   "codemirror_mode": {
    "name": "ipython",
    "version": 3
   },
   "file_extension": ".py",
   "mimetype": "text/x-python",
   "name": "python",
   "nbconvert_exporter": "python",
   "pygments_lexer": "ipython3",
   "version": "3.6.9"
  }
 },
 "nbformat": 4,
 "nbformat_minor": 2
}
